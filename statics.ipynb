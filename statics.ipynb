{
 "cells": [
  {
   "cell_type": "markdown",
   "id": "54289193-1dcf-420d-b51a-d19cf7484880",
   "metadata": {},
   "source": [
    "Q1. What is Statistics?"
   ]
  },
  {
   "cell_type": "markdown",
   "id": "b5c338fd-ff77-4fd3-aae5-8ea6dba25b34",
   "metadata": {},
   "source": [
    "ans- statistics is science of a collecting,organizating and analyzing data"
   ]
  },
  {
   "cell_type": "markdown",
   "id": "08610cb9-065c-46f3-a964-16f1095d597f",
   "metadata": {},
   "source": [
    "Q2. Define the different types of statistics and give an example of when each type might be used."
   ]
  },
  {
   "cell_type": "markdown",
   "id": "8c9a1713-cf55-4e91-96b9-5633400772c5",
   "metadata": {},
   "source": [
    "ans- there are two types of statistics\n",
    "\n",
    "1)descriptive and 2)Inferential\n",
    "\n",
    "1)descriptive statistics-It is a consists of organize and summarize data\n",
    "2)Inferential statistics-it is a consists of using a data you have found for conculsion\n",
    "\n",
    "eg-1 what is the height of the student in the classroom(descripitive)\n",
    " using mean\n",
    " \n",
    "eg-2 are the height of the student in the classroom.similar you have except the height\n"
   ]
  },
  {
   "cell_type": "markdown",
   "id": "cf3232b3-2a65-4e21-87ae-78240e8bc5df",
   "metadata": {},
   "source": [
    "Q3. What are the different types of data and how do they differ from each other? Provide an example of\n",
    "each type of data."
   ]
  },
  {
   "cell_type": "markdown",
   "id": "f89ad0e3-2cae-482d-968a-d5fceae09658",
   "metadata": {},
   "source": [
    "Qualitative Data Type-numeric value\n",
    "\n",
    "Nominal-eg gender\n",
    "Ordinal-eg feedback\n",
    "\n",
    "Quantitative Data-  Type-categorical data\n",
    "\n",
    "Discrete-whole value,eg-no of bank account\n",
    "Continuous- any value,eg-height,weight\n"
   ]
  },
  {
   "cell_type": "markdown",
   "id": "a506b0cc-8d3a-49dd-be84-c47dc03f38d1",
   "metadata": {},
   "source": [
    "Q4. Categorise the following datasets with respect to quantitative and qualitative data types:\n",
    "(i) Grading in exam: A+, A, B+, B, C+, C, D, E\n",
    "(ii) Colour of mangoes: yellow, green, orange, red\n",
    "(iii) Height data of a class: [178.9, 179, 179.5, 176, 177.2, 178.3, 175.8,...]\n",
    "(iv) Number of mangoes exported by a farm: [500, 600, 478, 672, ...]"
   ]
  },
  {
   "cell_type": "raw",
   "id": "f92f00bf-32d0-4c85-92db-ff7173dfb713",
   "metadata": {},
   "source": [
    "i - qualitative\n",
    "ii - qualitative\n",
    "iii - quantitive\n",
    "iv - quantitive"
   ]
  },
  {
   "cell_type": "raw",
   "id": "80751c7e-ff5f-46db-9f95-abc9a0c2f256",
   "metadata": {},
   "source": [
    "Q5. Explain the concept of levels of measurement and give an example of a variable for each level."
   ]
  },
  {
   "cell_type": "raw",
   "id": "4d6a5901-d015-46cd-b3ad-c25fa05f8796",
   "metadata": {},
   "source": [
    "ans-Nominal scale measurement-qualitative/categorical   , eg - gender,color\n",
    " ordinal scale measurement- ranking is important, eg- customer feedback , best ,good or bad\n",
    "interval scale measurement- the order matter , eg- tempareture variable \n",
    " ratio  scale measurement- order are matter, eg- students marks"
   ]
  },
  {
   "cell_type": "raw",
   "id": "d2f3b609-af99-4027-8699-e5d1e6b4a91e",
   "metadata": {},
   "source": [
    "Q6. Why is it important to understand the level of measurement when analyzing data? Provide an\n",
    "example to illustrate your answer."
   ]
  },
  {
   "cell_type": "raw",
   "id": "e69699d8-78bf-401c-b96f-d44bda915a40",
   "metadata": {},
   "source": [
    "ans-level of measurement, also known as scale of measurement, refers to the process of categorizing data based on the characteristics and properties of the data. It’s important in statistics because it helps determine the appropriate statistical methods and tests that can be used to analyze the data. Is age an interval or ratio"
   ]
  },
  {
   "cell_type": "raw",
   "id": "5160282f-7546-4342-967a-679324127e90",
   "metadata": {},
   "source": [
    "Q7. How nominal data type is different from ordinal data type."
   ]
  },
  {
   "cell_type": "raw",
   "id": "d5565be6-237e-441a-a6b6-7df74cb119ed",
   "metadata": {},
   "source": [
    "ans-Nominal Data – Nominal data is a basic data type that categorizes data by labeling or naming values such as Gender, hair color, or types of animal. It does not have any hierarchy.\n",
    "\n",
    "Ordinal Data – Ordinal data involves classifying data based on rank, such as social status in categories like ‘wealthy’, ‘middle income’, or ‘poor’. However, there are no set intervals between these categories."
   ]
  },
  {
   "cell_type": "raw",
   "id": "49dbda98-e5b6-4507-a060-9116d7d4f443",
   "metadata": {},
   "source": [
    "Q8. Which type of plot can be used to display data in terms of range?"
   ]
  },
  {
   "cell_type": "raw",
   "id": "e79be490-c8c0-4051-b7fa-c1de880b6e65",
   "metadata": {},
   "source": [
    "these plot types serve various purposes and are chosen based on the data and the insights you want to convey.\n",
    "\n",
    "Bar Graph\n",
    "Line Graph\n",
    "Pie Chart\n",
    "Histogram\n",
    "Area Chart\n",
    "Dot Graph\n",
    "Bubble Chart\n",
    "Radar Chart\n",
    "Pictogram Graph\n",
    "Spline Chart\n",
    "Box Plot\n",
    "Scatter Plot\n"
   ]
  },
  {
   "cell_type": "markdown",
   "id": "f6040ec2-045e-4116-8df1-7ff820c394e7",
   "metadata": {},
   "source": [
    "Q9. Describe the difference between descriptive and inferential statistics. Give an example of each\n",
    "type of statistics and explain how they are used."
   ]
  },
  {
   "cell_type": "raw",
   "id": "b72c9e7c-2e84-4503-a5df-d61eed18a45b",
   "metadata": {},
   "source": [
    "Descriptive Statistics\n",
    "In a nutshell, descriptive statistics aims to describe a chunk of raw data using summary statistics, graphs, and tables.\n",
    "\n",
    "Descriptive statistics are useful because they allow you to understand a group of data much more quickly and easily compared to just staring at rows and rows of raw data values.\n",
    "\n",
    "For example, suppose we have a set of raw data that shows the test scores of 1,000 students at a particular school. We might be interested in the average test score along with the distribution of test scores.\n",
    "\n",
    "\n",
    "\n",
    "Using descriptive statistics, we could find the average score and create a graph that helps us visualize the distribution of scores.\n",
    "\n",
    "This allows us to understand the test scores of the students much more easily compared to just staring at the raw data.\n",
    "\n",
    "1)Measure of a tendancy\n",
    "2) measure of a dispersion\n",
    "\n"
   ]
  },
  {
   "cell_type": "raw",
   "id": "b16caed3-6467-43d3-a3a0-e72236b52b7d",
   "metadata": {},
   "source": [
    "Inferential Statistics\n",
    "In a nutshell, inferential statistics uses a small sample of data to draw inferences about the larger population that the sample came from\n",
    "\n",
    "1)z test\n",
    "2) t test\n",
    "3) p value"
   ]
  },
  {
   "cell_type": "raw",
   "id": "cf42eb7e-276c-4edf-a70f-84101c6c7e92",
   "metadata": {},
   "source": [
    "Q10. What are some common measures of central tendency and variability used in statistics? Explain\n",
    "how each measure can be used to describe a dataset."
   ]
  },
  {
   "cell_type": "code",
   "execution_count": null,
   "id": "c8a833fe-6dc5-4da9-98ff-3638f9fb0646",
   "metadata": {},
   "outputs": [],
   "source": [
    "mean,median "
   ]
  }
 ],
 "metadata": {
  "kernelspec": {
   "display_name": "Python 3 (ipykernel)",
   "language": "python",
   "name": "python3"
  },
  "language_info": {
   "codemirror_mode": {
    "name": "ipython",
    "version": 3
   },
   "file_extension": ".py",
   "mimetype": "text/x-python",
   "name": "python",
   "nbconvert_exporter": "python",
   "pygments_lexer": "ipython3",
   "version": "3.10.8"
  }
 },
 "nbformat": 4,
 "nbformat_minor": 5
}
